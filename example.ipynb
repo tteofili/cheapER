{
 "cells": [
  {
   "cell_type": "code",
   "execution_count": 1,
   "metadata": {},
   "outputs": [],
   "source": [
    "from cheaper.params import CheapERParams\n",
    "from pipeline import cheaper_train\n",
    "from pipeline import get_datasets\n",
    "\n",
    "# get datasets\n",
    "datasets = get_datasets()\n",
    "beers_dataset = datasets[5]"
   ]
  },
  {
   "cell_type": "code",
   "execution_count": 4,
   "metadata": {
    "collapsed": false,
    "jupyter": {
     "outputs_hidden": false
    },
    "pycharm": {
     "name": "#%%\n"
    }
   },
   "outputs": [],
   "source": [
    "# cheapER parameters' settings\n",
    "params = CheapERParams()\n",
    "params.epochs = 15\n",
    "params.models = ['distilroberta-base']\n",
    "params.adaptive_ft = False\n",
    "params.lr = 2e-6\n",
    "params.lr_multiplier = 10\n",
    "params.sigma = 200\n",
    "params.kappa = 20\n",
    "params.epsilon = 0.015\n",
    "params.threshod = 0\n",
    "params.slicing = [0.33]"
   ]
  },
  {
   "cell_type": "code",
   "execution_count": null,
   "metadata": {
    "pycharm": {
     "is_executing": true
    }
   },
   "outputs": [
    {
     "name": "stdout",
     "output_type": "stream",
     "text": [
      "CheapER: training on dataset \"beers\"\n",
      "CheapER: using params \"sigma=200,kappa=20,epsilon=0.015,adaptive_ft=False,num_runs=1,normalize=True,sim_length=5,warmup=False,epochs=15,lr=2e-06,attribute_shuffle=False,identity=False,symmetry=False,models=['distilroberta-base'],slicing=[0.33],compare=False,generated_only=True,approx=perceptron,balance=[0.5, 0.5],adjust_ds_size=False,batch_size=8,silent=True,deeper_trick=False,consistency=False,sim_edges=True,simple_slicing=True,use_model=noisy-student,teaching_iterations=3,lr_multiplier=10,data_noise=True,temperature=None,discard_old_data=False,use_scores=False,threshold=0.5\"\n",
      "Generating dataset\n",
      "Parsing original dataset\n"
     ]
    },
    {
     "name": "stderr",
     "output_type": "stream",
     "text": [
      "loading configuration file https://huggingface.co/distilroberta-base/resolve/main/config.json from cache at /home/tteofili/.cache/huggingface/transformers/42d6b7c87cbac84fcdf35aa69504a5ccfca878fcee2a1a9b9ff7a3d1297f9094.aa95727ac70adfa1aaf5c88bea30a4f5e50869c68e68bce96ef1ec41b5facf46\n",
      "Model config RobertaConfig {\n",
      "  \"architectures\": [\n",
      "    \"RobertaForMaskedLM\"\n",
      "  ],\n",
      "  \"attention_probs_dropout_prob\": 0.1,\n",
      "  \"bos_token_id\": 0,\n",
      "  \"classifier_dropout\": null,\n",
      "  \"eos_token_id\": 2,\n",
      "  \"hidden_act\": \"gelu\",\n",
      "  \"hidden_dropout_prob\": 0.1,\n",
      "  \"hidden_size\": 768,\n",
      "  \"initializer_range\": 0.02,\n",
      "  \"intermediate_size\": 3072,\n",
      "  \"layer_norm_eps\": 1e-05,\n",
      "  \"max_position_embeddings\": 514,\n",
      "  \"model_type\": \"roberta\",\n",
      "  \"num_attention_heads\": 12,\n",
      "  \"num_hidden_layers\": 6,\n",
      "  \"pad_token_id\": 1,\n",
      "  \"position_embedding_type\": \"absolute\",\n",
      "  \"transformers_version\": \"4.12.5\",\n",
      "  \"type_vocab_size\": 1,\n",
      "  \"use_cache\": true,\n",
      "  \"vocab_size\": 50265\n",
      "}\n",
      "\n",
      "loading file https://huggingface.co/distilroberta-base/resolve/main/vocab.json from cache at /home/tteofili/.cache/huggingface/transformers/23e0f7484fc8a320856b168861166b48c2976bb4e0861602422e1b0c3fe5bf61.d67d6b367eb24ab43b08ad55e014cf254076934f71d832bbab9ad35644a375ab\n",
      "loading file https://huggingface.co/distilroberta-base/resolve/main/merges.txt from cache at /home/tteofili/.cache/huggingface/transformers/c7e8020011da613ff5a9175ddad64cd47238a9525db975eb50ecb965e9f7302f.5d12962c5ee615a4c803841266e9c3be9a691a924f72d395d3a6c6c81157788b\n",
      "loading file https://huggingface.co/distilroberta-base/resolve/main/added_tokens.json from cache at None\n",
      "loading file https://huggingface.co/distilroberta-base/resolve/main/special_tokens_map.json from cache at None\n",
      "loading file https://huggingface.co/distilroberta-base/resolve/main/tokenizer_config.json from cache at None\n",
      "loading file https://huggingface.co/distilroberta-base/resolve/main/tokenizer.json from cache at /home/tteofili/.cache/huggingface/transformers/b6a9ca6504e67903474c3fdf82ba249882406e61c2176a9d4dc9c3691c663767.fc9576039592f026ad76a1c231b89aee8668488c671dfbe6616bab2ed298d730\n",
      "loading configuration file https://huggingface.co/distilroberta-base/resolve/main/config.json from cache at /home/tteofili/.cache/huggingface/transformers/42d6b7c87cbac84fcdf35aa69504a5ccfca878fcee2a1a9b9ff7a3d1297f9094.aa95727ac70adfa1aaf5c88bea30a4f5e50869c68e68bce96ef1ec41b5facf46\n",
      "Model config RobertaConfig {\n",
      "  \"architectures\": [\n",
      "    \"RobertaForMaskedLM\"\n",
      "  ],\n",
      "  \"attention_probs_dropout_prob\": 0.1,\n",
      "  \"bos_token_id\": 0,\n",
      "  \"classifier_dropout\": null,\n",
      "  \"eos_token_id\": 2,\n",
      "  \"hidden_act\": \"gelu\",\n",
      "  \"hidden_dropout_prob\": 0.1,\n",
      "  \"hidden_size\": 768,\n",
      "  \"initializer_range\": 0.02,\n",
      "  \"intermediate_size\": 3072,\n",
      "  \"layer_norm_eps\": 1e-05,\n",
      "  \"max_position_embeddings\": 514,\n",
      "  \"model_type\": \"roberta\",\n",
      "  \"num_attention_heads\": 12,\n",
      "  \"num_hidden_layers\": 6,\n",
      "  \"pad_token_id\": 1,\n",
      "  \"position_embedding_type\": \"absolute\",\n",
      "  \"transformers_version\": \"4.12.5\",\n",
      "  \"type_vocab_size\": 1,\n",
      "  \"use_cache\": true,\n",
      "  \"vocab_size\": 50265\n",
      "}\n",
      "\n",
      "loading weights file https://huggingface.co/distilroberta-base/resolve/main/pytorch_model.bin from cache at /home/tteofili/.cache/huggingface/transformers/7a0115a4c463f49bc7ab011872fc4a4b81be681a0434075955d29ac3388e225b.a6127d76576e81475313180aceb31a8688f7a649b80e380d26b5d30302dc83c1\n",
      "Some weights of the model checkpoint at distilroberta-base were not used when initializing RobertaForSequenceClassification: ['lm_head.dense.weight', 'lm_head.layer_norm.bias', 'roberta.pooler.dense.weight', 'lm_head.dense.bias', 'lm_head.bias', 'lm_head.layer_norm.weight', 'roberta.pooler.dense.bias', 'lm_head.decoder.weight']\n",
      "- This IS expected if you are initializing RobertaForSequenceClassification from the checkpoint of a model trained on another task or with another architecture (e.g. initializing a BertForSequenceClassification model from a BertForPreTraining model).\n",
      "- This IS NOT expected if you are initializing RobertaForSequenceClassification from the checkpoint of a model that you expect to be exactly identical (initializing a BertForSequenceClassification model from a BertForSequenceClassification model).\n",
      "Some weights of RobertaForSequenceClassification were not initialized from the model checkpoint at distilroberta-base and are newly initialized: ['classifier.out_proj.bias', 'classifier.dense.bias', 'classifier.dense.weight', 'classifier.out_proj.weight']\n",
      "You should probably TRAIN this model on a down-stream task to be able to use it for predictions and inference.\n",
      "loading weights file https://huggingface.co/distilroberta-base/resolve/main/pytorch_model.bin from cache at /home/tteofili/.cache/huggingface/transformers/7a0115a4c463f49bc7ab011872fc4a4b81be681a0434075955d29ac3388e225b.a6127d76576e81475313180aceb31a8688f7a649b80e380d26b5d30302dc83c1\n",
      "All model checkpoint weights were used when initializing RobertaForMaskedLM.\n",
      "\n",
      "All the weights of RobertaForMaskedLM were initialized from the model checkpoint at distilroberta-base.\n",
      "If your task is similar to the task the model of the checkpoint was trained on, you can already use RobertaForMaskedLM for predictions without further training.\n"
     ]
    },
    {
     "name": "stdout",
     "output_type": "stream",
     "text": [
      "------------- Teacher Training distilroberta-base ------------------\n",
      "Training with 88 record pairs (33.0% GT)\n",
      "Using custom data configuration default-51ab2bc96a109884\n",
      "Downloading and preparing dataset csv/default to /home/tteofili/.cache/huggingface/datasets/csv/default-51ab2bc96a109884/0.0.0/bf68a4c4aefa545d0712b2fcbb1b327f905bbe2f6425fbc5e8c25234acb9e14a...\n"
     ]
    },
    {
     "data": {
      "application/vnd.jupyter.widget-view+json": {
       "model_id": "e29bb0a0b0a84ee291b825b4ad35e14e",
       "version_major": 2,
       "version_minor": 0
      },
      "text/plain": [
       "  0%|          | 0/1 [00:00<?, ?it/s]"
      ]
     },
     "metadata": {},
     "output_type": "display_data"
    },
    {
     "data": {
      "application/vnd.jupyter.widget-view+json": {
       "model_id": "ad5e0ca19180448194597ad8eb2c4d66",
       "version_major": 2,
       "version_minor": 0
      },
      "text/plain": [
       "  0%|          | 0/1 [00:00<?, ?it/s]"
      ]
     },
     "metadata": {},
     "output_type": "display_data"
    },
    {
     "name": "stdout",
     "output_type": "stream",
     "text": [
      "Dataset csv downloaded and prepared to /home/tteofili/.cache/huggingface/datasets/csv/default-51ab2bc96a109884/0.0.0/bf68a4c4aefa545d0712b2fcbb1b327f905bbe2f6425fbc5e8c25234acb9e14a. Subsequent calls will reuse this data.\n",
      "Using custom data configuration default-0effe8a4f1ae2c42\n",
      "Downloading and preparing dataset csv/default to /home/tteofili/.cache/huggingface/datasets/csv/default-0effe8a4f1ae2c42/0.0.0/bf68a4c4aefa545d0712b2fcbb1b327f905bbe2f6425fbc5e8c25234acb9e14a...\n"
     ]
    },
    {
     "data": {
      "application/vnd.jupyter.widget-view+json": {
       "model_id": "c4de89050734490f8bc2dc12ee8d32b9",
       "version_major": 2,
       "version_minor": 0
      },
      "text/plain": [
       "  0%|          | 0/1 [00:00<?, ?it/s]"
      ]
     },
     "metadata": {},
     "output_type": "display_data"
    },
    {
     "data": {
      "application/vnd.jupyter.widget-view+json": {
       "model_id": "577089b476c94a759ac2bae7d0dfb413",
       "version_major": 2,
       "version_minor": 0
      },
      "text/plain": [
       "  0%|          | 0/1 [00:00<?, ?it/s]"
      ]
     },
     "metadata": {},
     "output_type": "display_data"
    },
    {
     "name": "stdout",
     "output_type": "stream",
     "text": [
      "Dataset csv downloaded and prepared to /home/tteofili/.cache/huggingface/datasets/csv/default-0effe8a4f1ae2c42/0.0.0/bf68a4c4aefa545d0712b2fcbb1b327f905bbe2f6425fbc5e8c25234acb9e14a. Subsequent calls will reuse this data.\n"
     ]
    },
    {
     "data": {
      "application/vnd.jupyter.widget-view+json": {
       "model_id": "1985ddc0828b4e7f9879973aef54527f",
       "version_major": 2,
       "version_minor": 0
      },
      "text/plain": [
       "  0%|          | 0/88 [00:00<?, ?ex/s]"
      ]
     },
     "metadata": {},
     "output_type": "display_data"
    },
    {
     "data": {
      "application/vnd.jupyter.widget-view+json": {
       "model_id": "df565e9e28eb4a23bbf40a687217e562",
       "version_major": 2,
       "version_minor": 0
      },
      "text/plain": [
       "  0%|          | 0/91 [00:00<?, ?ex/s]"
      ]
     },
     "metadata": {},
     "output_type": "display_data"
    },
    {
     "name": "stderr",
     "output_type": "stream",
     "text": [
      "PyTorch: setting up devices\n",
      "The default value for the training argument `--report_to` will change in v5 (from all installed integrations to none). In v5, you will need to use `--report_to all` to get the same behavior as now. You should start updating your code and make this info disappear :-).\n",
      "***** Running training *****\n",
      "  Num examples = 88\n",
      "  Num Epochs = 15\n",
      "  Instantaneous batch size per device = 8\n",
      "  Total train batch size (w. parallel, distributed & accumulation) = 8\n",
      "  Gradient Accumulation steps = 1\n",
      "  Total optimization steps = 165\n"
     ]
    },
    {
     "data": {
      "text/html": [
       "\n",
       "    <div>\n",
       "      \n",
       "      <progress value='165' max='165' style='width:300px; height:20px; vertical-align: middle;'></progress>\n",
       "      [165/165 28:12, Epoch 15/15]\n",
       "    </div>\n",
       "    <table border=\"1\" class=\"dataframe\">\n",
       "  <thead>\n",
       "    <tr style=\"text-align: left;\">\n",
       "      <th>Epoch</th>\n",
       "      <th>Training Loss</th>\n",
       "      <th>Validation Loss</th>\n",
       "      <th>F1</th>\n",
       "    </tr>\n",
       "  </thead>\n",
       "  <tbody>\n",
       "    <tr>\n",
       "      <td>1</td>\n",
       "      <td>0.620000</td>\n",
       "      <td>0.595355</td>\n",
       "      <td>0.000000</td>\n",
       "    </tr>\n",
       "    <tr>\n",
       "      <td>2</td>\n",
       "      <td>0.608900</td>\n",
       "      <td>0.578321</td>\n",
       "      <td>0.000000</td>\n",
       "    </tr>\n",
       "    <tr>\n",
       "      <td>3</td>\n",
       "      <td>0.583000</td>\n",
       "      <td>0.562707</td>\n",
       "      <td>0.000000</td>\n",
       "    </tr>\n",
       "    <tr>\n",
       "      <td>4</td>\n",
       "      <td>0.570600</td>\n",
       "      <td>0.548796</td>\n",
       "      <td>0.000000</td>\n",
       "    </tr>\n",
       "    <tr>\n",
       "      <td>5</td>\n",
       "      <td>0.566900</td>\n",
       "      <td>0.535930</td>\n",
       "      <td>0.000000</td>\n",
       "    </tr>\n",
       "    <tr>\n",
       "      <td>6</td>\n",
       "      <td>0.563000</td>\n",
       "      <td>0.524646</td>\n",
       "      <td>0.000000</td>\n",
       "    </tr>\n",
       "    <tr>\n",
       "      <td>7</td>\n",
       "      <td>0.544900</td>\n",
       "      <td>0.514650</td>\n",
       "      <td>0.000000</td>\n",
       "    </tr>\n",
       "    <tr>\n",
       "      <td>8</td>\n",
       "      <td>0.550800</td>\n",
       "      <td>0.506040</td>\n",
       "      <td>0.000000</td>\n",
       "    </tr>\n",
       "    <tr>\n",
       "      <td>9</td>\n",
       "      <td>0.555400</td>\n",
       "      <td>0.498306</td>\n",
       "      <td>0.000000</td>\n",
       "    </tr>\n",
       "    <tr>\n",
       "      <td>10</td>\n",
       "      <td>0.540200</td>\n",
       "      <td>0.491865</td>\n",
       "      <td>0.000000</td>\n",
       "    </tr>\n",
       "    <tr>\n",
       "      <td>11</td>\n",
       "      <td>0.520500</td>\n",
       "      <td>0.486430</td>\n",
       "      <td>0.000000</td>\n",
       "    </tr>\n",
       "    <tr>\n",
       "      <td>12</td>\n",
       "      <td>0.516700</td>\n",
       "      <td>0.481966</td>\n",
       "      <td>0.000000</td>\n",
       "    </tr>\n",
       "    <tr>\n",
       "      <td>13</td>\n",
       "      <td>0.539500</td>\n",
       "      <td>0.478791</td>\n",
       "      <td>0.000000</td>\n",
       "    </tr>\n",
       "    <tr>\n",
       "      <td>14</td>\n",
       "      <td>0.515100</td>\n",
       "      <td>0.476944</td>\n",
       "      <td>0.000000</td>\n",
       "    </tr>\n",
       "    <tr>\n",
       "      <td>15</td>\n",
       "      <td>0.509800</td>\n",
       "      <td>0.476279</td>\n",
       "      <td>0.000000</td>\n",
       "    </tr>\n",
       "  </tbody>\n",
       "</table><p>"
      ],
      "text/plain": [
       "<IPython.core.display.HTML object>"
      ]
     },
     "metadata": {},
     "output_type": "display_data"
    },
    {
     "name": "stderr",
     "output_type": "stream",
     "text": [
      "***** Running Evaluation *****\n",
      "  Num examples = 91\n",
      "  Batch size = 32\n",
      "Saving model checkpoint to ./results/checkpoint-11\n",
      "Configuration saved in ./results/checkpoint-11/config.json\n",
      "Model weights saved in ./results/checkpoint-11/pytorch_model.bin\n",
      "tokenizer config file saved in ./results/checkpoint-11/tokenizer_config.json\n",
      "Special tokens file saved in ./results/checkpoint-11/special_tokens_map.json\n",
      "Deleting older checkpoint [results/checkpoint-481] due to args.save_total_limit\n",
      "***** Running Evaluation *****\n",
      "  Num examples = 91\n",
      "  Batch size = 32\n",
      "Saving model checkpoint to ./results/checkpoint-22\n",
      "Configuration saved in ./results/checkpoint-22/config.json\n",
      "Model weights saved in ./results/checkpoint-22/pytorch_model.bin\n",
      "tokenizer config file saved in ./results/checkpoint-22/tokenizer_config.json\n",
      "Special tokens file saved in ./results/checkpoint-22/special_tokens_map.json\n",
      "Deleting older checkpoint [results/checkpoint-555] due to args.save_total_limit\n",
      "***** Running Evaluation *****\n",
      "  Num examples = 91\n",
      "  Batch size = 32\n",
      "Saving model checkpoint to ./results/checkpoint-33\n",
      "Configuration saved in ./results/checkpoint-33/config.json\n",
      "Model weights saved in ./results/checkpoint-33/pytorch_model.bin\n",
      "tokenizer config file saved in ./results/checkpoint-33/tokenizer_config.json\n",
      "Special tokens file saved in ./results/checkpoint-33/special_tokens_map.json\n",
      "Deleting older checkpoint [results/checkpoint-22] due to args.save_total_limit\n",
      "***** Running Evaluation *****\n",
      "  Num examples = 91\n",
      "  Batch size = 32\n",
      "Saving model checkpoint to ./results/checkpoint-44\n",
      "Configuration saved in ./results/checkpoint-44/config.json\n",
      "Model weights saved in ./results/checkpoint-44/pytorch_model.bin\n",
      "tokenizer config file saved in ./results/checkpoint-44/tokenizer_config.json\n",
      "Special tokens file saved in ./results/checkpoint-44/special_tokens_map.json\n",
      "Deleting older checkpoint [results/checkpoint-33] due to args.save_total_limit\n",
      "***** Running Evaluation *****\n",
      "  Num examples = 91\n",
      "  Batch size = 32\n",
      "Saving model checkpoint to ./results/checkpoint-55\n",
      "Configuration saved in ./results/checkpoint-55/config.json\n",
      "Model weights saved in ./results/checkpoint-55/pytorch_model.bin\n",
      "tokenizer config file saved in ./results/checkpoint-55/tokenizer_config.json\n",
      "Special tokens file saved in ./results/checkpoint-55/special_tokens_map.json\n",
      "Deleting older checkpoint [results/checkpoint-44] due to args.save_total_limit\n",
      "***** Running Evaluation *****\n",
      "  Num examples = 91\n",
      "  Batch size = 32\n",
      "Saving model checkpoint to ./results/checkpoint-66\n",
      "Configuration saved in ./results/checkpoint-66/config.json\n",
      "Model weights saved in ./results/checkpoint-66/pytorch_model.bin\n",
      "tokenizer config file saved in ./results/checkpoint-66/tokenizer_config.json\n",
      "Special tokens file saved in ./results/checkpoint-66/special_tokens_map.json\n",
      "Deleting older checkpoint [results/checkpoint-55] due to args.save_total_limit\n",
      "***** Running Evaluation *****\n",
      "  Num examples = 91\n",
      "  Batch size = 32\n",
      "Saving model checkpoint to ./results/checkpoint-77\n",
      "Configuration saved in ./results/checkpoint-77/config.json\n",
      "Model weights saved in ./results/checkpoint-77/pytorch_model.bin\n",
      "tokenizer config file saved in ./results/checkpoint-77/tokenizer_config.json\n",
      "Special tokens file saved in ./results/checkpoint-77/special_tokens_map.json\n",
      "Deleting older checkpoint [results/checkpoint-66] due to args.save_total_limit\n",
      "***** Running Evaluation *****\n",
      "  Num examples = 91\n",
      "  Batch size = 32\n",
      "Saving model checkpoint to ./results/checkpoint-88\n",
      "Configuration saved in ./results/checkpoint-88/config.json\n",
      "Model weights saved in ./results/checkpoint-88/pytorch_model.bin\n",
      "tokenizer config file saved in ./results/checkpoint-88/tokenizer_config.json\n",
      "Special tokens file saved in ./results/checkpoint-88/special_tokens_map.json\n",
      "Deleting older checkpoint [results/checkpoint-77] due to args.save_total_limit\n",
      "***** Running Evaluation *****\n",
      "  Num examples = 91\n",
      "  Batch size = 32\n",
      "Saving model checkpoint to ./results/checkpoint-99\n",
      "Configuration saved in ./results/checkpoint-99/config.json\n",
      "Model weights saved in ./results/checkpoint-99/pytorch_model.bin\n",
      "tokenizer config file saved in ./results/checkpoint-99/tokenizer_config.json\n",
      "Special tokens file saved in ./results/checkpoint-99/special_tokens_map.json\n",
      "Deleting older checkpoint [results/checkpoint-88] due to args.save_total_limit\n",
      "***** Running Evaluation *****\n",
      "  Num examples = 91\n",
      "  Batch size = 32\n",
      "Saving model checkpoint to ./results/checkpoint-110\n",
      "Configuration saved in ./results/checkpoint-110/config.json\n",
      "Model weights saved in ./results/checkpoint-110/pytorch_model.bin\n",
      "tokenizer config file saved in ./results/checkpoint-110/tokenizer_config.json\n",
      "Special tokens file saved in ./results/checkpoint-110/special_tokens_map.json\n",
      "Deleting older checkpoint [results/checkpoint-99] due to args.save_total_limit\n",
      "***** Running Evaluation *****\n",
      "  Num examples = 91\n",
      "  Batch size = 32\n",
      "Saving model checkpoint to ./results/checkpoint-121\n",
      "Configuration saved in ./results/checkpoint-121/config.json\n",
      "Model weights saved in ./results/checkpoint-121/pytorch_model.bin\n",
      "tokenizer config file saved in ./results/checkpoint-121/tokenizer_config.json\n",
      "Special tokens file saved in ./results/checkpoint-121/special_tokens_map.json\n",
      "Deleting older checkpoint [results/checkpoint-110] due to args.save_total_limit\n",
      "***** Running Evaluation *****\n",
      "  Num examples = 91\n",
      "  Batch size = 32\n",
      "Saving model checkpoint to ./results/checkpoint-132\n",
      "Configuration saved in ./results/checkpoint-132/config.json\n",
      "Model weights saved in ./results/checkpoint-132/pytorch_model.bin\n",
      "tokenizer config file saved in ./results/checkpoint-132/tokenizer_config.json\n",
      "Special tokens file saved in ./results/checkpoint-132/special_tokens_map.json\n",
      "Deleting older checkpoint [results/checkpoint-121] due to args.save_total_limit\n",
      "***** Running Evaluation *****\n",
      "  Num examples = 91\n",
      "  Batch size = 32\n",
      "Saving model checkpoint to ./results/checkpoint-143\n",
      "Configuration saved in ./results/checkpoint-143/config.json\n",
      "Model weights saved in ./results/checkpoint-143/pytorch_model.bin\n",
      "tokenizer config file saved in ./results/checkpoint-143/tokenizer_config.json\n",
      "Special tokens file saved in ./results/checkpoint-143/special_tokens_map.json\n",
      "Deleting older checkpoint [results/checkpoint-132] due to args.save_total_limit\n",
      "***** Running Evaluation *****\n",
      "  Num examples = 91\n",
      "  Batch size = 32\n",
      "Saving model checkpoint to ./results/checkpoint-154\n",
      "Configuration saved in ./results/checkpoint-154/config.json\n",
      "Model weights saved in ./results/checkpoint-154/pytorch_model.bin\n",
      "tokenizer config file saved in ./results/checkpoint-154/tokenizer_config.json\n",
      "Special tokens file saved in ./results/checkpoint-154/special_tokens_map.json\n",
      "Deleting older checkpoint [results/checkpoint-143] due to args.save_total_limit\n",
      "***** Running Evaluation *****\n",
      "  Num examples = 91\n",
      "  Batch size = 32\n",
      "Saving model checkpoint to ./results/checkpoint-165\n",
      "Configuration saved in ./results/checkpoint-165/config.json\n",
      "Model weights saved in ./results/checkpoint-165/pytorch_model.bin\n",
      "tokenizer config file saved in ./results/checkpoint-165/tokenizer_config.json\n",
      "Special tokens file saved in ./results/checkpoint-165/special_tokens_map.json\n",
      "Deleting older checkpoint [results/checkpoint-154] due to args.save_total_limit\n",
      "\n",
      "\n",
      "Training completed. Do not forget to share your model on huggingface.co/models =)\n",
      "\n",
      "\n",
      "Loading best model from ./results/checkpoint-11 (score: 0.5953545570373535).\n",
      "Saving model checkpoint to models/distilroberta-base\n",
      "Configuration saved in models/distilroberta-base/config.json\n",
      "Model weights saved in models/distilroberta-base/pytorch_model.bin\n",
      "tokenizer config file saved in models/distilroberta-base/tokenizer_config.json\n",
      "Special tokens file saved in models/distilroberta-base/special_tokens_map.json\n"
     ]
    },
    {
     "name": "stdout",
     "output_type": "stream",
     "text": [
      "***** Eval results after epoch -1 *****\n",
      "eval_loss: 0.5985937217871348\n",
      "f1_score: 0.0\n",
      "report:               precision    recall  f1-score   support\n",
      "\n",
      "           0       0.85      1.00      0.92        77\n",
      "           1       0.00      0.00      0.00        14\n",
      "\n",
      "    accuracy                           0.85        91\n",
      "   macro avg       0.42      0.50      0.46        91\n",
      "weighted avg       0.72      0.85      0.78        91\n",
      "\n",
      "simple_accuracy: 0.8461538461538461\n",
      "              precision    recall  f1-score   support\n",
      "\n",
      "           0       0.85      1.00      0.92        77\n",
      "           1       0.00      0.00      0.00        14\n",
      "\n",
      "    accuracy                           0.85        91\n",
      "   macro avg       0.42      0.50      0.46        91\n",
      "weighted avg       0.72      0.85      0.78        91\n",
      "\n",
      "Generating dataset\n",
      "Parsing original dataset\n",
      "match number: 18 no match number: 70\n"
     ]
    },
    {
     "data": {
      "image/png": "[encoded data removed]",
      "text/plain": [
       "<Figure size 432x288 with 1 Axes>"
      ]
     },
     "metadata": {
      "needs_background": "light"
     },
     "output_type": "display_data"
    },
    {
     "name": "stdout",
     "output_type": "stream",
     "text": [
      "min_sim_Match 0.5max_sim_noMatch 0.5\n",
      "!max_sim 0.515\n",
      "!min_sim 0.485\n",
      "--------------- Generating datasets --------------\n",
      "min_cos_sim 0.2773500981126146\n",
      "4345\n",
      "3000\n",
      "4345\n",
      "3000\n",
      "4345\n",
      "LSH blocking started\n",
      "903 pairs found\n",
      "LSH blocking done\n"
     ]
    },
    {
     "data": {
      "image/png": "[encoded data removed]",
      "text/plain": [
       "<Figure size 432x288 with 1 Axes>"
      ]
     },
     "metadata": {
      "needs_background": "light"
     },
     "output_type": "display_data"
    },
    {
     "name": "stdout",
     "output_type": "stream",
     "text": [
      "0 positive pairs found via LSH blocking and high similarity check\n",
      "355 negative pairs found via LSH blocking and low similarity check\n",
      "max pair visit: 1000\n",
      "dizionari\n",
      "listL_match[0]\n",
      "0\n"
     ]
    },
    {
     "data": {
      "image/png": "[encoded data removed]",
      "text/plain": [
       "<Figure size 432x288 with 1 Axes>"
      ]
     },
     "metadata": {
      "needs_background": "light"
     },
     "output_type": "display_data"
    },
    {
     "data": {
      "image/png": "[encoded data removed]",
      "text/plain": [
       "<Figure size 432x288 with 1 Axes>"
      ]
     },
     "metadata": {
      "needs_background": "light"
     },
     "output_type": "display_data"
    },
    {
     "data": {
      "image/png": "[encoded data removed]",
      "text/plain": [
       "<Figure size 432x288 with 1 Axes>"
      ]
     },
     "metadata": {
      "needs_background": "light"
     },
     "output_type": "display_data"
    },
    {
     "data": {
      "image/png": "[encoded data removed]",
      "text/plain": [
       "<Figure size 432x288 with 1 Axes>"
      ]
     },
     "metadata": {
      "needs_background": "light"
     },
     "output_type": "display_data"
    },
    {
     "name": "stdout",
     "output_type": "stream",
     "text": [
      "create candidates set\n",
      "0 matches, 575 non-matches, 20 consistency pairs\n",
      "dizionari occorrenze degli attributi del dataset di pt\n"
     ]
    },
    {
     "data": {
      "image/png": "[encoded data removed]",
      "text/plain": [
       "<Figure size 432x288 with 1 Axes>"
      ]
     },
     "metadata": {
      "needs_background": "light"
     },
     "output_type": "display_data"
    },
    {
     "data": {
      "image/png": "[encoded data removed]",
      "text/plain": [
       "<Figure size 432x288 with 1 Axes>"
      ]
     },
     "metadata": {
      "needs_background": "light"
     },
     "output_type": "display_data"
    },
    {
     "data": {
      "image/png": "[encoded data removed]",
      "text/plain": [
       "<Figure size 432x288 with 1 Axes>"
      ]
     },
     "metadata": {
      "needs_background": "light"
     },
     "output_type": "display_data"
    },
    {
     "data": {
      "image/png": "[encoded data removed]",
      "text/plain": [
       "<Figure size 432x288 with 1 Axes>"
      ]
     },
     "metadata": {
      "needs_background": "light"
     },
     "output_type": "display_data"
    },
    {
     "data": {
      "image/png": "[encoded data removed]",
      "text/plain": [
       "<Figure size 432x288 with 1 Axes>"
      ]
     },
     "metadata": {
      "needs_background": "light"
     },
     "output_type": "display_data"
    },
    {
     "data": {
      "image/png": "[encoded data removed]",
      "text/plain": [
       "<Figure size 432x288 with 1 Axes>"
      ]
     },
     "metadata": {
      "needs_background": "light"
     },
     "output_type": "display_data"
    },
    {
     "data": {
      "image/png": "[encoded data removed]",
      "text/plain": [
       "<Figure size 432x288 with 1 Axes>"
      ]
     },
     "metadata": {
      "needs_background": "light"
     },
     "output_type": "display_data"
    },
    {
     "data": {
      "image/png": "[encoded data removed]",
      "text/plain": [
       "<Figure size 432x288 with 1 Axes>"
      ]
     },
     "metadata": {
      "needs_background": "light"
     },
     "output_type": "display_data"
    },
    {
     "data": {
      "image/png": "[encoded data removed]",
      "text/plain": [
       "<Figure size 432x288 with 1 Axes>"
      ]
     },
     "metadata": {
      "needs_background": "light"
     },
     "output_type": "display_data"
    },
    {
     "name": "stdout",
     "output_type": "stream",
     "text": [
      "k_slice 100\n"
     ]
    },
    {
     "data": {
      "image/png": "[encoded data removed]",
      "text/plain": [
       "<Figure size 432x288 with 1 Axes>"
      ]
     },
     "metadata": {
      "needs_background": "light"
     },
     "output_type": "display_data"
    },
    {
     "name": "stdout",
     "output_type": "stream",
     "text": [
      "--------------- data augmentation creating dataset --------------\n",
      "using threshold=0.515 to approximate label\n",
      "discarded 0 elements\n"
     ]
    },
    {
     "data": {
      "image/png": "[encoded data removed]",
      "text/plain": [
       "<Figure size 432x288 with 1 Axes>"
      ]
     },
     "metadata": {
      "needs_background": "light"
     },
     "output_type": "display_data"
    },
    {
     "name": "stdout",
     "output_type": "stream",
     "text": [
      "Previous generated dataset size: 0\n",
      "New generated dataset size: 120\n"
     ]
    },
    {
     "name": "stderr",
     "output_type": "stream",
     "text": [
      "loading configuration file https://huggingface.co/distilroberta-base/resolve/main/config.json from cache at /home/tteofili/.cache/huggingface/transformers/42d6b7c87cbac84fcdf35aa69504a5ccfca878fcee2a1a9b9ff7a3d1297f9094.aa95727ac70adfa1aaf5c88bea30a4f5e50869c68e68bce96ef1ec41b5facf46\n",
      "Model config RobertaConfig {\n",
      "  \"architectures\": [\n",
      "    \"RobertaForMaskedLM\"\n",
      "  ],\n",
      "  \"attention_probs_dropout_prob\": 0.1,\n",
      "  \"bos_token_id\": 0,\n",
      "  \"classifier_dropout\": null,\n",
      "  \"eos_token_id\": 2,\n",
      "  \"hidden_act\": \"gelu\",\n",
      "  \"hidden_dropout_prob\": 0.1,\n",
      "  \"hidden_size\": 768,\n",
      "  \"initializer_range\": 0.02,\n",
      "  \"intermediate_size\": 3072,\n",
      "  \"layer_norm_eps\": 1e-05,\n",
      "  \"max_position_embeddings\": 514,\n",
      "  \"model_type\": \"roberta\",\n",
      "  \"num_attention_heads\": 12,\n",
      "  \"num_hidden_layers\": 6,\n",
      "  \"pad_token_id\": 1,\n",
      "  \"position_embedding_type\": \"absolute\",\n",
      "  \"transformers_version\": \"4.12.5\",\n",
      "  \"type_vocab_size\": 1,\n",
      "  \"use_cache\": true,\n",
      "  \"vocab_size\": 50265\n",
      "}\n",
      "\n",
      "loading file https://huggingface.co/distilroberta-base/resolve/main/vocab.json from cache at /home/tteofili/.cache/huggingface/transformers/23e0f7484fc8a320856b168861166b48c2976bb4e0861602422e1b0c3fe5bf61.d67d6b367eb24ab43b08ad55e014cf254076934f71d832bbab9ad35644a375ab\n",
      "loading file https://huggingface.co/distilroberta-base/resolve/main/merges.txt from cache at /home/tteofili/.cache/huggingface/transformers/c7e8020011da613ff5a9175ddad64cd47238a9525db975eb50ecb965e9f7302f.5d12962c5ee615a4c803841266e9c3be9a691a924f72d395d3a6c6c81157788b\n",
      "loading file https://huggingface.co/distilroberta-base/resolve/main/added_tokens.json from cache at None\n",
      "loading file https://huggingface.co/distilroberta-base/resolve/main/special_tokens_map.json from cache at None\n",
      "loading file https://huggingface.co/distilroberta-base/resolve/main/tokenizer_config.json from cache at None\n",
      "loading file https://huggingface.co/distilroberta-base/resolve/main/tokenizer.json from cache at /home/tteofili/.cache/huggingface/transformers/b6a9ca6504e67903474c3fdf82ba249882406e61c2176a9d4dc9c3691c663767.fc9576039592f026ad76a1c231b89aee8668488c671dfbe6616bab2ed298d730\n",
      "loading configuration file https://huggingface.co/distilroberta-base/resolve/main/config.json from cache at /home/tteofili/.cache/huggingface/transformers/42d6b7c87cbac84fcdf35aa69504a5ccfca878fcee2a1a9b9ff7a3d1297f9094.aa95727ac70adfa1aaf5c88bea30a4f5e50869c68e68bce96ef1ec41b5facf46\n",
      "Model config RobertaConfig {\n",
      "  \"architectures\": [\n",
      "    \"RobertaForMaskedLM\"\n",
      "  ],\n",
      "  \"attention_probs_dropout_prob\": 0.1,\n",
      "  \"bos_token_id\": 0,\n",
      "  \"classifier_dropout\": null,\n",
      "  \"eos_token_id\": 2,\n",
      "  \"hidden_act\": \"gelu\",\n",
      "  \"hidden_dropout_prob\": 0.1,\n",
      "  \"hidden_size\": 768,\n",
      "  \"initializer_range\": 0.02,\n",
      "  \"intermediate_size\": 3072,\n",
      "  \"layer_norm_eps\": 1e-05,\n",
      "  \"max_position_embeddings\": 514,\n",
      "  \"model_type\": \"roberta\",\n",
      "  \"num_attention_heads\": 12,\n",
      "  \"num_hidden_layers\": 6,\n",
      "  \"pad_token_id\": 1,\n",
      "  \"position_embedding_type\": \"absolute\",\n",
      "  \"transformers_version\": \"4.12.5\",\n",
      "  \"type_vocab_size\": 1,\n",
      "  \"use_cache\": true,\n",
      "  \"vocab_size\": 50265\n",
      "}\n",
      "\n",
      "loading weights file https://huggingface.co/distilroberta-base/resolve/main/pytorch_model.bin from cache at /home/tteofili/.cache/huggingface/transformers/7a0115a4c463f49bc7ab011872fc4a4b81be681a0434075955d29ac3388e225b.a6127d76576e81475313180aceb31a8688f7a649b80e380d26b5d30302dc83c1\n",
      "Some weights of the model checkpoint at distilroberta-base were not used when initializing RobertaForSequenceClassification: ['lm_head.dense.weight', 'lm_head.layer_norm.bias', 'roberta.pooler.dense.weight', 'lm_head.dense.bias', 'lm_head.bias', 'lm_head.layer_norm.weight', 'roberta.pooler.dense.bias', 'lm_head.decoder.weight']\n",
      "- This IS expected if you are initializing RobertaForSequenceClassification from the checkpoint of a model trained on another task or with another architecture (e.g. initializing a BertForSequenceClassification model from a BertForPreTraining model).\n",
      "- This IS NOT expected if you are initializing RobertaForSequenceClassification from the checkpoint of a model that you expect to be exactly identical (initializing a BertForSequenceClassification model from a BertForSequenceClassification model).\n",
      "Some weights of RobertaForSequenceClassification were not initialized from the model checkpoint at distilroberta-base and are newly initialized: ['classifier.out_proj.bias', 'classifier.dense.bias', 'classifier.dense.weight', 'classifier.out_proj.weight']\n",
      "You should probably TRAIN this model on a down-stream task to be able to use it for predictions and inference.\n",
      "loading weights file https://huggingface.co/distilroberta-base/resolve/main/pytorch_model.bin from cache at /home/tteofili/.cache/huggingface/transformers/7a0115a4c463f49bc7ab011872fc4a4b81be681a0434075955d29ac3388e225b.a6127d76576e81475313180aceb31a8688f7a649b80e380d26b5d30302dc83c1\n",
      "All model checkpoint weights were used when initializing RobertaForMaskedLM.\n",
      "\n",
      "All the weights of RobertaForMaskedLM were initialized from the model checkpoint at distilroberta-base.\n",
      "If your task is similar to the task the model of the checkpoint was trained on, you can already use RobertaForMaskedLM for predictions without further training.\n"
     ]
    },
    {
     "name": "stdout",
     "output_type": "stream",
     "text": [
      "------------- Student Training distilroberta-base -----------------\n",
      "Training with 208 record pairs (120 generated, 88 GT)\n",
      "Using custom data configuration default-e385d0e49dc5ab65\n",
      "Downloading and preparing dataset csv/default to /home/tteofili/.cache/huggingface/datasets/csv/default-e385d0e49dc5ab65/0.0.0/bf68a4c4aefa545d0712b2fcbb1b327f905bbe2f6425fbc5e8c25234acb9e14a...\n"
     ]
    },
    {
     "data": {
      "application/vnd.jupyter.widget-view+json": {
       "model_id": "40296de845ab46f2b55f16ea77d45f6a",
       "version_major": 2,
       "version_minor": 0
      },
      "text/plain": [
       "  0%|          | 0/1 [00:00<?, ?it/s]"
      ]
     },
     "metadata": {},
     "output_type": "display_data"
    },
    {
     "data": {
      "application/vnd.jupyter.widget-view+json": {
       "model_id": "a58bbc082f1e4497a4780a7fce622c97",
       "version_major": 2,
       "version_minor": 0
      },
      "text/plain": [
       "  0%|          | 0/1 [00:00<?, ?it/s]"
      ]
     },
     "metadata": {},
     "output_type": "display_data"
    },
    {
     "name": "stdout",
     "output_type": "stream",
     "text": [
      "Dataset csv downloaded and prepared to /home/tteofili/.cache/huggingface/datasets/csv/default-e385d0e49dc5ab65/0.0.0/bf68a4c4aefa545d0712b2fcbb1b327f905bbe2f6425fbc5e8c25234acb9e14a. Subsequent calls will reuse this data.\n",
      "Using custom data configuration default-a80441442c52194a\n",
      "Downloading and preparing dataset csv/default to /home/tteofili/.cache/huggingface/datasets/csv/default-a80441442c52194a/0.0.0/bf68a4c4aefa545d0712b2fcbb1b327f905bbe2f6425fbc5e8c25234acb9e14a...\n"
     ]
    },
    {
     "data": {
      "application/vnd.jupyter.widget-view+json": {
       "model_id": "a3f65bb3fbe4416795751e306a4626ad",
       "version_major": 2,
       "version_minor": 0
      },
      "text/plain": [
       "  0%|          | 0/1 [00:00<?, ?it/s]"
      ]
     },
     "metadata": {},
     "output_type": "display_data"
    },
    {
     "data": {
      "application/vnd.jupyter.widget-view+json": {
       "model_id": "085cac6e0b0c4c67a51a3c76f50812c3",
       "version_major": 2,
       "version_minor": 0
      },
      "text/plain": [
       "  0%|          | 0/1 [00:00<?, ?it/s]"
      ]
     },
     "metadata": {},
     "output_type": "display_data"
    },
    {
     "name": "stdout",
     "output_type": "stream",
     "text": [
      "Dataset csv downloaded and prepared to /home/tteofili/.cache/huggingface/datasets/csv/default-a80441442c52194a/0.0.0/bf68a4c4aefa545d0712b2fcbb1b327f905bbe2f6425fbc5e8c25234acb9e14a. Subsequent calls will reuse this data.\n"
     ]
    },
    {
     "data": {
      "application/vnd.jupyter.widget-view+json": {
       "model_id": "51f5dfe1f8264064a8e02609f0b6e152",
       "version_major": 2,
       "version_minor": 0
      },
      "text/plain": [
       "  0%|          | 0/208 [00:00<?, ?ex/s]"
      ]
     },
     "metadata": {},
     "output_type": "display_data"
    },
    {
     "data": {
      "application/vnd.jupyter.widget-view+json": {
       "model_id": "f245a5f3a2564f658c96081c6a34fdaf",
       "version_major": 2,
       "version_minor": 0
      },
      "text/plain": [
       "  0%|          | 0/91 [00:00<?, ?ex/s]"
      ]
     },
     "metadata": {},
     "output_type": "display_data"
    },
    {
     "name": "stderr",
     "output_type": "stream",
     "text": [
      "PyTorch: setting up devices\n",
      "The default value for the training argument `--report_to` will change in v5 (from all installed integrations to none). In v5, you will need to use `--report_to all` to get the same behavior as now. You should start updating your code and make this info disappear :-).\n",
      "***** Running training *****\n",
      "  Num examples = 208\n",
      "  Num Epochs = 15\n",
      "  Instantaneous batch size per device = 8\n",
      "  Total train batch size (w. parallel, distributed & accumulation) = 8\n",
      "  Gradient Accumulation steps = 1\n",
      "  Total optimization steps = 390\n"
     ]
    },
    {
     "data": {
      "text/html": [
       "\n",
       "    <div>\n",
       "      \n",
       "      <progress value='205' max='390' style='width:300px; height:20px; vertical-align: middle;'></progress>\n",
       "      [205/390 15:31 < 14:09, 0.22 it/s, Epoch 7.85/15]\n",
       "    </div>\n",
       "    <table border=\"1\" class=\"dataframe\">\n",
       "  <thead>\n",
       "    <tr style=\"text-align: left;\">\n",
       "      <th>Epoch</th>\n",
       "      <th>Training Loss</th>\n",
       "      <th>Validation Loss</th>\n",
       "      <th>F1</th>\n",
       "    </tr>\n",
       "  </thead>\n",
       "  <tbody>\n",
       "    <tr>\n",
       "      <td>1</td>\n",
       "      <td>0.434900</td>\n",
       "      <td>0.632137</td>\n",
       "      <td>0.000000</td>\n",
       "    </tr>\n",
       "    <tr>\n",
       "      <td>2</td>\n",
       "      <td>0.335800</td>\n",
       "      <td>0.601885</td>\n",
       "      <td>0.000000</td>\n",
       "    </tr>\n",
       "    <tr>\n",
       "      <td>3</td>\n",
       "      <td>0.341400</td>\n",
       "      <td>0.591311</td>\n",
       "      <td>0.000000</td>\n",
       "    </tr>\n",
       "    <tr>\n",
       "      <td>4</td>\n",
       "      <td>0.316100</td>\n",
       "      <td>0.567640</td>\n",
       "      <td>0.000000</td>\n",
       "    </tr>\n",
       "    <tr>\n",
       "      <td>5</td>\n",
       "      <td>0.323100</td>\n",
       "      <td>0.617937</td>\n",
       "      <td>0.000000</td>\n",
       "    </tr>\n",
       "    <tr>\n",
       "      <td>6</td>\n",
       "      <td>0.326300</td>\n",
       "      <td>0.639669</td>\n",
       "      <td>0.000000</td>\n",
       "    </tr>\n",
       "    <tr>\n",
       "      <td>7</td>\n",
       "      <td>0.297300</td>\n",
       "      <td>0.584563</td>\n",
       "      <td>0.000000</td>\n",
       "    </tr>\n",
       "  </tbody>\n",
       "</table><p>"
      ],
      "text/plain": [
       "<IPython.core.display.HTML object>"
      ]
     },
     "metadata": {},
     "output_type": "display_data"
    },
    {
     "name": "stderr",
     "output_type": "stream",
     "text": [
      "***** Running Evaluation *****\n",
      "  Num examples = 91\n",
      "  Batch size = 32\n",
      "Saving model checkpoint to ./results/checkpoint-26\n",
      "Configuration saved in ./results/checkpoint-26/config.json\n",
      "Model weights saved in ./results/checkpoint-26/pytorch_model.bin\n",
      "tokenizer config file saved in ./results/checkpoint-26/tokenizer_config.json\n",
      "Special tokens file saved in ./results/checkpoint-26/special_tokens_map.json\n",
      "Deleting older checkpoint [results/checkpoint-11] due to args.save_total_limit\n",
      "***** Running Evaluation *****\n",
      "  Num examples = 91\n",
      "  Batch size = 32\n",
      "Saving model checkpoint to ./results/checkpoint-52\n",
      "Configuration saved in ./results/checkpoint-52/config.json\n",
      "Model weights saved in ./results/checkpoint-52/pytorch_model.bin\n",
      "tokenizer config file saved in ./results/checkpoint-52/tokenizer_config.json\n",
      "Special tokens file saved in ./results/checkpoint-52/special_tokens_map.json\n",
      "Deleting older checkpoint [results/checkpoint-165] due to args.save_total_limit\n",
      "***** Running Evaluation *****\n",
      "  Num examples = 91\n",
      "  Batch size = 32\n",
      "Saving model checkpoint to ./results/checkpoint-78\n",
      "Configuration saved in ./results/checkpoint-78/config.json\n",
      "Model weights saved in ./results/checkpoint-78/pytorch_model.bin\n",
      "tokenizer config file saved in ./results/checkpoint-78/tokenizer_config.json\n",
      "Special tokens file saved in ./results/checkpoint-78/special_tokens_map.json\n",
      "Deleting older checkpoint [results/checkpoint-52] due to args.save_total_limit\n",
      "***** Running Evaluation *****\n",
      "  Num examples = 91\n",
      "  Batch size = 32\n",
      "Saving model checkpoint to ./results/checkpoint-104\n",
      "Configuration saved in ./results/checkpoint-104/config.json\n",
      "Model weights saved in ./results/checkpoint-104/pytorch_model.bin\n",
      "tokenizer config file saved in ./results/checkpoint-104/tokenizer_config.json\n",
      "Special tokens file saved in ./results/checkpoint-104/special_tokens_map.json\n",
      "Deleting older checkpoint [results/checkpoint-78] due to args.save_total_limit\n",
      "***** Running Evaluation *****\n",
      "  Num examples = 91\n",
      "  Batch size = 32\n",
      "Saving model checkpoint to ./results/checkpoint-130\n",
      "Configuration saved in ./results/checkpoint-130/config.json\n",
      "Model weights saved in ./results/checkpoint-130/pytorch_model.bin\n",
      "tokenizer config file saved in ./results/checkpoint-130/tokenizer_config.json\n",
      "Special tokens file saved in ./results/checkpoint-130/special_tokens_map.json\n",
      "Deleting older checkpoint [results/checkpoint-104] due to args.save_total_limit\n",
      "***** Running Evaluation *****\n",
      "  Num examples = 91\n",
      "  Batch size = 32\n",
      "Saving model checkpoint to ./results/checkpoint-156\n",
      "Configuration saved in ./results/checkpoint-156/config.json\n",
      "Model weights saved in ./results/checkpoint-156/pytorch_model.bin\n",
      "tokenizer config file saved in ./results/checkpoint-156/tokenizer_config.json\n",
      "Special tokens file saved in ./results/checkpoint-156/special_tokens_map.json\n",
      "Deleting older checkpoint [results/checkpoint-26] due to args.save_total_limit\n",
      "***** Running Evaluation *****\n",
      "  Num examples = 91\n",
      "  Batch size = 32\n",
      "Saving model checkpoint to ./results/checkpoint-182\n",
      "Configuration saved in ./results/checkpoint-182/config.json\n",
      "Model weights saved in ./results/checkpoint-182/pytorch_model.bin\n",
      "tokenizer config file saved in ./results/checkpoint-182/tokenizer_config.json\n",
      "Special tokens file saved in ./results/checkpoint-182/special_tokens_map.json\n",
      "Deleting older checkpoint [results/checkpoint-130] due to args.save_total_limit\n"
     ]
    }
   ],
   "source": [
    "results_df = cheaper_train(beers_dataset, params)\n",
    "print(results_df)"
   ]
  }
 ],
 "metadata": {
  "kernelspec": {
   "display_name": "Python 3",
   "language": "python",
   "name": "python3"
  },
  "language_info": {
   "codemirror_mode": {
    "name": "ipython",
    "version": 3
   },
   "file_extension": ".py",
   "mimetype": "text/x-python",
   "name": "python",
   "nbconvert_exporter": "python",
   "pygments_lexer": "ipython3",
   "version": "3.6.8"
  }
 },
 "nbformat": 4,
 "nbformat_minor": 4
}

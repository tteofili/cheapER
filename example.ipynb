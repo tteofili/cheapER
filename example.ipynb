{
 "cells": [
  {
   "cell_type": "code",
   "execution_count": 1,
   "metadata": {},
   "outputs": [],
   "source": [
    "from cheaper.params import CheapERParams\n",
    "from pipeline import cheaper_train\n",
    "from pipeline import get_datasets\n",
    "\n",
    "\n",
    "# get datasets\n",
    "datasets = get_datasets()\n",
    "beers_dataset = datasets[5]"
   ]
  },
  {
   "cell_type": "code",
   "execution_count": 2,
   "metadata": {
    "collapsed": false,
    "jupyter": {
     "outputs_hidden": false
    },
    "pycharm": {
     "name": "#%%\n"
    }
   },
   "outputs": [],
   "source": [
    "# cheapER parameters' settings\n",
    "params = CheapERParams()\n",
    "params.epochs = 5\n",
    "params.lr = 1e-6\n",
    "params.lr_multiplier = 10\n",
    "params.adaptive_ft = False"
   ]
  },
  {
   "cell_type": "code",
   "execution_count": null,
   "metadata": {},
   "outputs": [
    {
     "name": "stdout",
     "output_type": "stream",
     "text": [
      "CheapER: training on dataset \"beers\"\n",
      "CheapER: using params \"sigma=3000,kappa=1200,epsilon=0.015,adaptive_ft=False,num_runs=1,normalize=True,sim_length=5,warmup=True,epochs=5,lr=1e-06,attribute_shuffle=True,identity=False,symmetry=False,models=['distilroberta-base'],slicing=[0.1, 0.33, 0.5, 1],compare=False,generated_only=True,approx=perceptron,balance=[0.5, 0.5],adjust_ds_size=True,batch_size=16,silent=True,deeper_trick=False,consistency=False,sim_edges=True,simple_slicing=True,use_model=noisy-student,teaching_iterations=3,lr_multiplier=10,data_noise=False,temperature=None,discard_old_data=True,use_scores=False,threshold=0\"\n",
      "Generating dataset\n",
      "Parsing original dataset\n"
     ]
    },
    {
     "name": "stderr",
     "output_type": "stream",
     "text": [
      "Some weights of the model checkpoint at distilroberta-base were not used when initializing RobertaForSequenceClassification: ['lm_head.dense.weight', 'lm_head.layer_norm.bias', 'lm_head.dense.bias', 'roberta.pooler.dense.weight', 'lm_head.bias', 'roberta.pooler.dense.bias', 'lm_head.layer_norm.weight', 'lm_head.decoder.weight']\n",
      "- This IS expected if you are initializing RobertaForSequenceClassification from the checkpoint of a model trained on another task or with another architecture (e.g. initializing a BertForSequenceClassification model from a BertForPreTraining model).\n",
      "- This IS NOT expected if you are initializing RobertaForSequenceClassification from the checkpoint of a model that you expect to be exactly identical (initializing a BertForSequenceClassification model from a BertForSequenceClassification model).\n",
      "Some weights of RobertaForSequenceClassification were not initialized from the model checkpoint at distilroberta-base and are newly initialized: ['classifier.dense.bias', 'classifier.dense.weight', 'classifier.out_proj.weight', 'classifier.out_proj.bias']\n",
      "You should probably TRAIN this model on a down-stream task to be able to use it for predictions and inference.\n"
     ]
    },
    {
     "name": "stdout",
     "output_type": "stream",
     "text": [
      "------------- Teacher Training distilroberta-base ------------------\n",
      "Training with 26 record pairs (10.0% GT)\n",
      "***** Run training *****\n",
      "***** Eval results after epoch -1 *****\n",
      "eval_loss: 0.7590778668721517\n",
      "f1_score: 0.2666666666666667\n",
      "report:               precision    recall  f1-score   support\n",
      "\n",
      "           0       0.00      0.00      0.00        77\n",
      "           1       0.15      1.00      0.27        14\n",
      "\n",
      "    accuracy                           0.15        91\n",
      "   macro avg       0.08      0.50      0.13        91\n",
      "weighted avg       0.02      0.15      0.04        91\n",
      "\n",
      "simple_accuracy: 0.15384615384615385\n",
      "              precision    recall  f1-score   support\n",
      "\n",
      "           0       0.00      0.00      0.00        77\n",
      "           1       0.15      1.00      0.27        14\n",
      "\n",
      "    accuracy                           0.15        91\n",
      "   macro avg       0.08      0.50      0.13        91\n",
      "weighted avg       0.02      0.15      0.04        91\n",
      "\n",
      "***** Eval results after epoch 0 *****\n",
      "eval_loss: 0.7560350596904755\n",
      "f1_score: 0.2666666666666667\n",
      "report:               precision    recall  f1-score   support\n",
      "\n",
      "           0       0.00      0.00      0.00        77\n",
      "           1       0.15      1.00      0.27        14\n",
      "\n",
      "    accuracy                           0.15        91\n",
      "   macro avg       0.08      0.50      0.13        91\n",
      "weighted avg       0.02      0.15      0.04        91\n",
      "\n",
      "simple_accuracy: 0.15384615384615385\n",
      "              precision    recall  f1-score   support\n",
      "\n",
      "           0       0.00      0.00      0.00        77\n",
      "           1       0.15      1.00      0.27        14\n",
      "\n",
      "    accuracy                           0.15        91\n",
      "   macro avg       0.08      0.50      0.13        91\n",
      "weighted avg       0.02      0.15      0.04        91\n",
      "\n",
      "***** Eval results after epoch 1 *****\n",
      "eval_loss: 0.7535697420438131\n",
      "f1_score: 0.2666666666666667\n",
      "report:               precision    recall  f1-score   support\n",
      "\n",
      "           0       0.00      0.00      0.00        77\n",
      "           1       0.15      1.00      0.27        14\n",
      "\n",
      "    accuracy                           0.15        91\n",
      "   macro avg       0.08      0.50      0.13        91\n",
      "weighted avg       0.02      0.15      0.04        91\n",
      "\n",
      "simple_accuracy: 0.15384615384615385\n",
      "              precision    recall  f1-score   support\n",
      "\n",
      "           0       0.00      0.00      0.00        77\n",
      "           1       0.15      1.00      0.27        14\n",
      "\n",
      "    accuracy                           0.15        91\n",
      "   macro avg       0.08      0.50      0.13        91\n",
      "weighted avg       0.02      0.15      0.04        91\n",
      "\n"
     ]
    }
   ],
   "source": [
    "results_df = cheaper_train(beers_dataset, params)\n",
    "print(results_df)\n"
   ]
  }
 ],
 "metadata": {
  "kernelspec": {
   "display_name": "Python 3",
   "language": "python",
   "name": "python3"
  },
  "language_info": {
   "codemirror_mode": {
    "name": "ipython",
    "version": 3
   },
   "file_extension": ".py",
   "mimetype": "text/x-python",
   "name": "python",
   "nbconvert_exporter": "python",
   "pygments_lexer": "ipython3",
   "version": "3.6.8"
  }
 },
 "nbformat": 4,
 "nbformat_minor": 4
}
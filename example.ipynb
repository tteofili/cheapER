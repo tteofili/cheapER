{
 "cells": [
  {
   "cell_type": "code",
   "execution_count": 2,
   "metadata": {},
   "outputs": [],
   "source": [
    "from cheaper.params import CheapERParams\n",
    "from pipeline import cheaper_train\n",
    "from pipeline import get_datasets\n",
    "\n",
    "\n",
    "# get datasets\n",
    "datasets = get_datasets()\n",
    "beers_dataset = datasets[5]"
   ]
  },
  {
   "cell_type": "code",
   "execution_count": 3,
   "metadata": {
    "collapsed": false,
    "jupyter": {
     "outputs_hidden": false
    },
    "pycharm": {
     "name": "#%%\n"
    }
   },
   "outputs": [],
   "source": [
    "# cheapER parameters' settings\n",
    "params = CheapERParams()\n",
    "params.epochs = 3\n",
    "params.lr = 1e-6\n",
    "params.lr_multiplier = 10\n",
    "params."
   ]
  },
  {
   "cell_type": "code",
   "execution_count": null,
   "metadata": {},
   "outputs": [],
   "source": [
    "results_df = cheaper_train(beers_dataset, params)\n",
    "print(results_df)\n"
   ]
  }
 ],
 "metadata": {
  "kernelspec": {
   "display_name": "Python 3",
   "language": "python",
   "name": "python3"
  },
  "language_info": {
   "codemirror_mode": {
    "name": "ipython",
    "version": 3
   },
   "file_extension": ".py",
   "mimetype": "text/x-python",
   "name": "python",
   "nbconvert_exporter": "python",
   "pygments_lexer": "ipython3",
   "version": "3.6.8"
  }
 },
 "nbformat": 4,
 "nbformat_minor": 4
}
{
 "cells": [
  {
   "cell_type": "code",
   "execution_count": 1,
   "metadata": {},
   "outputs": [],
   "source": [
    "from cheaper.params import CheapERParams\n",
    "from pipeline import cheaper_train\n",
    "from pipeline import get_datasets\n",
    "\n",
    "# get datasets\n",
    "datasets = get_datasets()\n",
    "beers_dataset = datasets[5]"
   ]
  },
  {
   "cell_type": "code",
   "execution_count": 2,
   "metadata": {
    "collapsed": false,
    "jupyter": {
     "outputs_hidden": false
    },
    "pycharm": {
     "name": "#%%\n"
    }
   },
   "outputs": [],
   "source": [
    "# cheapER parameters' settings\n",
    "params = CheapERParams()\n",
    "params.epochs = 5\n",
    "params.lr = 1e-5\n",
    "params.lr_multiplier = 3\n",
    "params.adaptive_ft = False"
   ]
  },
  {
   "cell_type": "code",
   "execution_count": null,
   "metadata": {
    "pycharm": {
     "is_executing": true
    }
   },
   "outputs": [
    {
     "name": "stdout",
     "output_type": "stream",
     "text": [
      "CheapER: training on dataset \"beers\"\n",
      "CheapER: using params \"sigma=3000,kappa=1200,epsilon=0.015,adaptive_ft=False,num_runs=1,normalize=True,sim_length=5,warmup=False,epochs=5,lr=1e-05,attribute_shuffle=False,identity=False,symmetry=False,models=['roberta-base'],slicing=[0.1, 0.33, 0.5, 1],compare=False,generated_only=True,approx=perceptron,balance=[0.5, 0.5],adjust_ds_size=True,batch_size=8,silent=True,deeper_trick=False,consistency=False,sim_edges=True,simple_slicing=True,use_model=noisy-student,teaching_iterations=3,lr_multiplier=3,data_noise=True,temperature=None,discard_old_data=False,use_scores=False,threshold=0\"\n",
      "Generating dataset\n",
      "Parsing original dataset\n"
     ]
    },
    {
     "name": "stderr",
     "output_type": "stream",
     "text": [
      "Some weights of the model checkpoint at roberta-base were not used when initializing RobertaForSequenceClassification: ['lm_head.dense.weight', 'lm_head.decoder.weight', 'lm_head.bias', 'roberta.pooler.dense.weight', 'lm_head.dense.bias', 'lm_head.layer_norm.weight', 'lm_head.layer_norm.bias', 'roberta.pooler.dense.bias']\n",
      "- This IS expected if you are initializing RobertaForSequenceClassification from the checkpoint of a model trained on another task or with another architecture (e.g. initializing a BertForSequenceClassification model from a BertForPreTraining model).\n",
      "- This IS NOT expected if you are initializing RobertaForSequenceClassification from the checkpoint of a model that you expect to be exactly identical (initializing a BertForSequenceClassification model from a BertForSequenceClassification model).\n",
      "Some weights of RobertaForSequenceClassification were not initialized from the model checkpoint at roberta-base and are newly initialized: ['classifier.out_proj.weight', 'classifier.dense.bias', 'classifier.out_proj.bias', 'classifier.dense.weight']\n",
      "You should probably TRAIN this model on a down-stream task to be able to use it for predictions and inference.\n"
     ]
    },
    {
     "name": "stdout",
     "output_type": "stream",
     "text": [
      "------------- Teacher Training roberta-base ------------------\n",
      "Training with 26 record pairs (10.0% GT)\n",
      "***** Run training *****\n",
      "***** Eval results after epoch -1 *****\n",
      "eval_loss: 0.5940939982732137\n",
      "f1_score: 0.0\n",
      "report:               precision    recall  f1-score   support\n",
      "\n",
      "           0       0.85      1.00      0.92        77\n",
      "           1       0.00      0.00      0.00        14\n",
      "\n",
      "    accuracy                           0.85        91\n",
      "   macro avg       0.42      0.50      0.46        91\n",
      "weighted avg       0.72      0.85      0.78        91\n",
      "\n",
      "simple_accuracy: 0.8461538461538461\n",
      "              precision    recall  f1-score   support\n",
      "\n",
      "           0       0.85      1.00      0.92        77\n",
      "           1       0.00      0.00      0.00        14\n",
      "\n",
      "    accuracy                           0.85        91\n",
      "   macro avg       0.42      0.50      0.46        91\n",
      "weighted avg       0.72      0.85      0.78        91\n",
      "\n",
      "***** Eval results after epoch 0 *****\n",
      "eval_loss: 0.5704408387343088\n",
      "f1_score: 0.0\n",
      "report:               precision    recall  f1-score   support\n",
      "\n",
      "           0       0.85      1.00      0.92        77\n",
      "           1       0.00      0.00      0.00        14\n",
      "\n",
      "    accuracy                           0.85        91\n",
      "   macro avg       0.42      0.50      0.46        91\n",
      "weighted avg       0.72      0.85      0.78        91\n",
      "\n",
      "simple_accuracy: 0.8461538461538461\n",
      "              precision    recall  f1-score   support\n",
      "\n",
      "           0       0.85      1.00      0.92        77\n",
      "           1       0.00      0.00      0.00        14\n",
      "\n",
      "    accuracy                           0.85        91\n",
      "   macro avg       0.42      0.50      0.46        91\n",
      "weighted avg       0.72      0.85      0.78        91\n",
      "\n",
      "***** Eval results after epoch 1 *****\n",
      "eval_loss: 0.5512750918666521\n",
      "f1_score: 0.0\n",
      "report:               precision    recall  f1-score   support\n",
      "\n",
      "           0       0.85      1.00      0.92        77\n",
      "           1       0.00      0.00      0.00        14\n",
      "\n",
      "    accuracy                           0.85        91\n",
      "   macro avg       0.42      0.50      0.46        91\n",
      "weighted avg       0.72      0.85      0.78        91\n",
      "\n",
      "simple_accuracy: 0.8461538461538461\n",
      "              precision    recall  f1-score   support\n",
      "\n",
      "           0       0.85      1.00      0.92        77\n",
      "           1       0.00      0.00      0.00        14\n",
      "\n",
      "    accuracy                           0.85        91\n",
      "   macro avg       0.42      0.50      0.46        91\n",
      "weighted avg       0.72      0.85      0.78        91\n",
      "\n",
      "***** Eval results after epoch 2 *****\n",
      "eval_loss: 0.5374894191821417\n",
      "f1_score: 0.0\n",
      "report:               precision    recall  f1-score   support\n",
      "\n",
      "           0       0.85      1.00      0.92        77\n",
      "           1       0.00      0.00      0.00        14\n",
      "\n",
      "    accuracy                           0.85        91\n",
      "   macro avg       0.42      0.50      0.46        91\n",
      "weighted avg       0.72      0.85      0.78        91\n",
      "\n",
      "simple_accuracy: 0.8461538461538461\n",
      "              precision    recall  f1-score   support\n",
      "\n",
      "           0       0.85      1.00      0.92        77\n",
      "           1       0.00      0.00      0.00        14\n",
      "\n",
      "    accuracy                           0.85        91\n",
      "   macro avg       0.42      0.50      0.46        91\n",
      "weighted avg       0.72      0.85      0.78        91\n",
      "\n",
      "***** Eval results after epoch 3 *****\n",
      "eval_loss: 0.5262017920613289\n",
      "f1_score: 0.0\n",
      "report:               precision    recall  f1-score   support\n",
      "\n",
      "           0       0.85      1.00      0.92        77\n",
      "           1       0.00      0.00      0.00        14\n",
      "\n",
      "    accuracy                           0.85        91\n",
      "   macro avg       0.42      0.50      0.46        91\n",
      "weighted avg       0.72      0.85      0.78        91\n",
      "\n",
      "simple_accuracy: 0.8461538461538461\n",
      "              precision    recall  f1-score   support\n",
      "\n",
      "           0       0.85      1.00      0.92        77\n",
      "           1       0.00      0.00      0.00        14\n",
      "\n",
      "    accuracy                           0.85        91\n",
      "   macro avg       0.42      0.50      0.46        91\n",
      "weighted avg       0.72      0.85      0.78        91\n",
      "\n",
      "***** Eval results after epoch 4 *****\n",
      "eval_loss: 0.5214312200744947\n",
      "f1_score: 0.0\n",
      "report:               precision    recall  f1-score   support\n",
      "\n",
      "           0       0.85      1.00      0.92        77\n",
      "           1       0.00      0.00      0.00        14\n",
      "\n",
      "    accuracy                           0.85        91\n",
      "   macro avg       0.42      0.50      0.46        91\n",
      "weighted avg       0.72      0.85      0.78        91\n",
      "\n",
      "simple_accuracy: 0.8461538461538461\n",
      "              precision    recall  f1-score   support\n",
      "\n",
      "           0       0.85      1.00      0.92        77\n",
      "           1       0.00      0.00      0.00        14\n",
      "\n",
      "    accuracy                           0.85        91\n",
      "   macro avg       0.42      0.50      0.46        91\n",
      "weighted avg       0.72      0.85      0.78        91\n",
      "\n",
      "using best model from models/roberta-base/models/roberta-base_best/epoch_4\n",
      "***** Eval results after epoch -1 *****\n",
      "eval_loss: 0.5315390328566233\n",
      "f1_score: 0.0\n",
      "report:               precision    recall  f1-score   support\n",
      "\n",
      "           0       0.85      1.00      0.92        77\n",
      "           1       0.00      0.00      0.00        14\n",
      "\n",
      "    accuracy                           0.85        91\n",
      "   macro avg       0.42      0.50      0.46        91\n",
      "weighted avg       0.72      0.85      0.78        91\n",
      "\n",
      "simple_accuracy: 0.8461538461538461\n",
      "              precision    recall  f1-score   support\n",
      "\n",
      "           0       0.85      1.00      0.92        77\n",
      "           1       0.00      0.00      0.00        14\n",
      "\n",
      "    accuracy                           0.85        91\n",
      "   macro avg       0.42      0.50      0.46        91\n",
      "weighted avg       0.72      0.85      0.78        91\n",
      "\n",
      "Generating dataset\n",
      "Parsing original dataset\n",
      "match number: 6 no match number: 20\n"
     ]
    },
    {
     "data": {
      "image/png": "[encoded data removed]",
      "text/plain": [
       "<Figure size 432x288 with 1 Axes>"
      ]
     },
     "metadata": {
      "needs_background": "light"
     },
     "output_type": "display_data"
    },
    {
     "name": "stdout",
     "output_type": "stream",
     "text": [
      "min_sim_Match 0.3572329max_sim_noMatch 0.35429254\n",
      "!max_sim 0.37223289847373964\n",
      "!min_sim 0.3392925417423248\n",
      "--------------- Generating datasets --------------\n",
      "min_cos_sim 0.30316953129541624\n",
      "4345\n",
      "3000\n",
      "4345\n",
      "3000\n",
      "4345\n",
      "LSH blocking started\n",
      "903 pairs found\n"
     ]
    }
   ],
   "source": [
    "results_df = cheaper_train(beers_dataset, params)\n",
    "print(results_df)\n"
   ]
  }
 ],
 "metadata": {
  "kernelspec": {
   "display_name": "Python 3",
   "language": "python",
   "name": "python3"
  },
  "language_info": {
   "codemirror_mode": {
    "name": "ipython",
    "version": 3
   },
   "file_extension": ".py",
   "mimetype": "text/x-python",
   "name": "python",
   "nbconvert_exporter": "python",
   "pygments_lexer": "ipython3",
   "version": "3.6.8"
  }
 },
 "nbformat": 4,
 "nbformat_minor": 4
}
